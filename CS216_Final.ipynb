{
  "nbformat": 4,
  "nbformat_minor": 0,
  "metadata": {
    "colab": {
      "name": "CS216-Final.ipynb",
      "provenance": [],
      "collapsed_sections": [],
      "include_colab_link": true
    },
    "kernelspec": {
      "name": "python3",
      "display_name": "Python 3"
    },
    "language_info": {
      "name": "python"
    }
  },
  "cells": [
    {
      "cell_type": "markdown",
      "metadata": {
        "id": "view-in-github",
        "colab_type": "text"
      },
      "source": [
        "<a href=\"https://colab.research.google.com/github/annamacfarlane/cs216-final/blob/main/CS216_Final.ipynb\" target=\"_parent\"><img src=\"https://colab.research.google.com/assets/colab-badge.svg\" alt=\"Open In Colab\"/></a>"
      ]
    },
    {
      "cell_type": "code",
      "execution_count": null,
      "metadata": {
        "colab": {
          "base_uri": "https://localhost:8080/"
        },
        "id": "ru_ZMAxza0Hv",
        "outputId": "42e0fab0-da84-4c7b-8118-a701e09b6a06"
      },
      "outputs": [
        {
          "output_type": "stream",
          "name": "stdout",
          "text": [
            "hello\n"
          ]
        }
      ],
      "source": [
        "print(\"hello\")"
      ]
    },
    {
      "cell_type": "markdown",
      "source": [
        ""
      ],
      "metadata": {
        "id": "d9T91MWZ6rG1"
      }
    },
    {
      "cell_type": "markdown",
      "source": [
        "# New Section"
      ],
      "metadata": {
        "id": "KxzUFUCq6yRx"
      }
    },
    {
      "cell_type": "code",
      "source": [
        "import numpy as np\n",
        "import pandas as pd\n",
        "import seaborn as sns\n",
        "sns.set_theme()\n"
      ],
      "metadata": {
        "id": "6XFr3yIKoPF0"
      },
      "execution_count": 3,
      "outputs": []
    },
    {
      "cell_type": "code",
      "source": [
        "tikTok1 = pd.read_csv(\"TikTok1.csv\")\n",
        "tikTok2 = pd.read_csv(\"TikTok2.csv\")\n",
        "tikTok3 = pd.read_csv(\"TikTok3.csv\")\n",
        "tikTok4 = pd.read_csv(\"cs216-tiktok-data.csv\") #103 col\n",
        "tikTok5 = pd.read_csv(\"dataset_free-tiktok-scraper_2022-03-30_22-03-08-881.csv\")\n",
        "tikTok6 = pd.read_csv(\"dataset_free-tiktok-scraper_2022-03-31_16-47-06-313.csv\")\n",
        "tikTok7 = pd.read_csv(\"dataset_free-tiktok-scraper_2022-03-31_19-12-44-202.csv\")\n",
        "tikTok8 = pd.read_csv(\"dataset_free-tiktok-scraper_2022-03-31_19-20-26-653.csv\")\n",
        "\n",
        "\n",
        "tikTokCombo = pd.concat([tikTok1, tikTok2], ignore_index = True)\n",
        "tikTokCombo = tikTokCombo.append(tikTok3, ignore_index = True)\n",
        "tikTokCombo = tikTokCombo.append(tikTok5, ignore_index = True)\n",
        "#print(tikTokCombo)\n",
        "\n",
        "print(tikTok7.shape)\n",
        "print(tikTok8.shape)\n",
        "tikTokCombo = pd.concat([tikTok1, tikTok2], ignore_index = True)\n",
        "#print(tikTokCombo)\n",
        "tikTokCombo = tikTokCombo.append(tikTok3, ignore_index = True)\n",
        "tikTokCombo = tikTokCombo.append(tikTok4, ignore_index = True)\n",
        "tikTokCombo = tikTokCombo.append(tikTok5, ignore_index = True)\n",
        "tikTokCombo = tikTokCombo.append(tikTok6, ignore_index = True)\n",
        "tikTokCombo = tikTokCombo.append(tikTok7, ignore_index = True)\n",
        "tikTokCombo = tikTokCombo.append(tikTok8, ignore_index = True)\n",
        "print(tikTokCombo.shape)\n",
        "\n",
        "#Twitter\n",
        "twitter1 = pd.read_csv(\"Twitter1.csv\")\n",
        "twitter2 = pd.read_csv(\"dataset_twitter-scraper_2022-03-31_16-42-36-057.csv\")\n",
        "twitter3 = pd.read_csv(\"dataset_twitter-scraper_2022-03-30_21-21-26-510.csv\")\n",
        "twitter4 = pd.read_csv(\"dataset_twitter-scraper_2022-03-31_17-46-24-530.csv\")\n",
        "\n",
        "twitterCombo = pd.concat([twitter1, twitter2], ignore_index = True)\n",
        "twitterCombo = twitterCombo.append(twitter3, ignore_index = True)\n",
        "twitterCombo = twitterCombo.append(twitter4, ignore_index = True)\n",
        "print(twitterCombo.shape)\n",
        "\n"
      ],
      "metadata": {
        "colab": {
          "base_uri": "https://localhost:8080/"
        },
        "id": "_v8oVaHfoyw5",
        "outputId": "dc825444-01cb-4a17-ff11-43846e14067c"
      },
      "execution_count": 6,
      "outputs": [
        {
          "output_type": "stream",
          "name": "stdout",
          "text": [
            "(20, 85)\n",
            "(20, 142)\n",
            "(300, 219)\n",
            "(500, 136)\n"
          ]
        }
      ]
    },
    {
      "cell_type": "code",
      "source": [
        "maskHashZero = tikTokCombo[tikTokCombo[\"hashtags/0/name\"] == \"ukraine\"]\n",
        "#print(maskHashZero)\n",
        "#print(maskHashZero[\"hashtags/0/name\"])\n",
        "\n",
        "twitter_hash0 = twitterCombo[(twitterCombo[\"hashtags/0\"] == \"Russia\") | (twitterCombo[\"hashtags/0\"] == \"Ukraine\")]\n",
        "#print(twitter_hash0)\n",
        "#print(twitterCombo[twitterCombo['hashtags/0']])\n",
        "sns.catplot(x = \"hashtags/0\", y=\"favorite_count\", kind = \"bar\",data = twitter_hash0)\n",
        "\n",
        "tiktok_hash0 = tikTokCombo[(tikTokCombo[\"hashtags/0/name\"] == \"russia\") | (tikTokCombo[\"hashtags/0/name\"] == \"ukraine\")]\n",
        "print(tiktok_hash0)\n",
        "sns.catplot(x = \"hashtags/0/name\", y=\"authorMeta/heart\", kind = \"bar\",data = tiktok_hash0)\n"
      ],
      "metadata": {
        "colab": {
          "base_uri": "https://localhost:8080/",
          "height": 1000
        },
        "id": "ydokHnE6OcyE",
        "outputId": "c2fcf808-ce27-45ae-ec52-3275f06edb34"
      },
      "execution_count": 7,
      "outputs": [
        {
          "output_type": "stream",
          "name": "stdout",
          "text": [
            "                                     authorMeta/avatar  authorMeta/digg  \\\n",
            "7    https://p16-sign-va.tiktokcdn.com/tos-maliva-a...             1224   \n",
            "12   https://p16-sign-va.tiktokcdn.com/tos-maliva-a...              230   \n",
            "14   https://p16-sign-va.tiktokcdn.com/musically-ma...            15000   \n",
            "19   https://p16-sign-va.tiktokcdn.com/tos-maliva-a...               80   \n",
            "20   https://p77-sign-va.tiktokcdn.com/tos-maliva-a...           273600   \n",
            "..                                                 ...              ...   \n",
            "268  https://p16-sign-va.tiktokcdn.com/tos-maliva-a...              103   \n",
            "269  https://p19-sign.tiktokcdn-us.com/tos-useast5-...             1180   \n",
            "270  https://p16-sign-va.tiktokcdn.com/tos-maliva-a...             1194   \n",
            "273  https://p77-sign-va.tiktokcdn.com/tos-maliva-a...              155   \n",
            "299  https://p16-sign-va.tiktokcdn.com/tos-useast2a...             4025   \n",
            "\n",
            "     authorMeta/fans  authorMeta/following  authorMeta/heart  \\\n",
            "7            1100000                   189          56400000   \n",
            "12            132100                    29           5500000   \n",
            "14             73200                   389           5000000   \n",
            "19            204900                     0           4500000   \n",
            "20            261300                   151          19900000   \n",
            "..               ...                   ...               ...   \n",
            "268             8831                    21            836800   \n",
            "269             7772                    63            654000   \n",
            "270            70200                    32           2000000   \n",
            "273            62600                    30           1500000   \n",
            "299             5926                    75            300200   \n",
            "\n",
            "           authorMeta/id     authorMeta/name      authorMeta/nickName  \\\n",
            "7    6883093738927719429            adilrevi                     Adil   \n",
            "12   6861826177763853317            soofiaxo         Sofia Doroshenko   \n",
            "14   6771098212071506949       cameronxprice            cameronxprice   \n",
            "19   7000354091813979141           nato.1234                       🔥🔥   \n",
            "20     54803654637019136        martavasyuta           Marta  Vasyuta   \n",
            "..                   ...                 ...                      ...   \n",
            "268  6932885613117162501             ewa_le2                  Ewa_le2   \n",
            "269  7014877160704295941  spiderman.1.is.hot                      hey   \n",
            "270  6837820440397087749              hrs7hd                    The 🐐   \n",
            "273  7067632099491169285         basedneocon                Giga Chad   \n",
            "299  6972374909297837058           samovarr_  Maxine <33 | She/her :D   \n",
            "\n",
            "                                  authorMeta/signature  authorMeta/verified  \\\n",
            "7                                                  да?                False   \n",
            "12                                    ✨✨\\njust for fun                False   \n",
            "14            My TikToks don’t represent the U.S. army                False   \n",
            "19                                                 NaN                False   \n",
            "20   🇺🇦🇬🇧\\nI show real footages of real people\\nDon...                False   \n",
            "..                                                 ...                  ...   \n",
            "268                                    Insta : ewa_le2                False   \n",
            "269                                 follow me I dare u                False   \n",
            "270                                             100k??                False   \n",
            "273                                King of controversy                False   \n",
            "299                                              Hey🤩🤩                False   \n",
            "\n",
            "     ...  hashtags/43/name  hashtags/43/title  hashtags/44/cover  \\\n",
            "7    ...               NaN                NaN                NaN   \n",
            "12   ...               NaN                NaN                NaN   \n",
            "14   ...               NaN                NaN                NaN   \n",
            "19   ...               NaN                NaN                NaN   \n",
            "20   ...               NaN                NaN                NaN   \n",
            "..   ...               ...                ...                ...   \n",
            "268  ...               NaN                NaN                NaN   \n",
            "269  ...               NaN                NaN                NaN   \n",
            "270  ...               NaN                NaN                NaN   \n",
            "273  ...               NaN                NaN                NaN   \n",
            "299  ...               NaN                NaN                NaN   \n",
            "\n",
            "     hashtags/44/id  hashtags/44/name hashtags/44/title  hashtags/45/cover  \\\n",
            "7               NaN               NaN               NaN                NaN   \n",
            "12              NaN               NaN               NaN                NaN   \n",
            "14              NaN               NaN               NaN                NaN   \n",
            "19              NaN               NaN               NaN                NaN   \n",
            "20              NaN               NaN               NaN                NaN   \n",
            "..              ...               ...               ...                ...   \n",
            "268             NaN               NaN               NaN                NaN   \n",
            "269             NaN               NaN               NaN                NaN   \n",
            "270             NaN               NaN               NaN                NaN   \n",
            "273             NaN               NaN               NaN                NaN   \n",
            "299             NaN               NaN               NaN                NaN   \n",
            "\n",
            "    hashtags/45/id hashtags/45/name hashtags/45/title  \n",
            "7              NaN              NaN               NaN  \n",
            "12             NaN              NaN               NaN  \n",
            "14             NaN              NaN               NaN  \n",
            "19             NaN              NaN               NaN  \n",
            "20             NaN              NaN               NaN  \n",
            "..             ...              ...               ...  \n",
            "268            NaN              NaN               NaN  \n",
            "269            NaN              NaN               NaN  \n",
            "270            NaN              NaN               NaN  \n",
            "273            NaN              NaN               NaN  \n",
            "299            NaN              NaN               NaN  \n",
            "\n",
            "[96 rows x 219 columns]\n"
          ]
        },
        {
          "output_type": "execute_result",
          "data": {
            "text/plain": [
              "<seaborn.axisgrid.FacetGrid at 0x7f259d5e5090>"
            ]
          },
          "metadata": {},
          "execution_count": 7
        },
        {
          "output_type": "display_data",
          "data": {
            "text/plain": [
              "<Figure size 360x360 with 1 Axes>"
            ],
            "image/png": "[encoded data removed]"
          },
          "metadata": {}
        },
        {
          "output_type": "display_data",
          "data": {
            "text/plain": [
              "<Figure size 360x360 with 1 Axes>"
            ],
            "image/png": "[encoded data removed]"
          },
          "metadata": {}
        }
      ]
    },
    {
      "cell_type": "code",
      "source": [
        "tikTokCombo.head()"
      ],
      "metadata": {
        "colab": {
          "base_uri": "https://localhost:8080/",
          "height": 386
        },
        "id": "zH9RGiEFqMbu",
        "outputId": "5dc389b0-b1d4-46f6-b035-b78f865e110c"
      },
      "execution_count": 8,
      "outputs": [
        {
          "output_type": "execute_result",
          "data": {
            "text/plain": [
              "                                   authorMeta/avatar  authorMeta/digg  \\\n",
              "0  https://p16-sign-sg.tiktokcdn.com/aweme/720x72...            72800   \n",
              "1  https://p16-sign-sg.tiktokcdn.com/aweme/720x72...            28200   \n",
              "2  https://p77-sign-va-lite.tiktokcdn.com/tos-mal...            11200   \n",
              "3  https://p16-sign-sg.tiktokcdn.com/aweme/720x72...            28200   \n",
              "4  https://p16-sign-sg.tiktokcdn.com/aweme/720x72...              662   \n",
              "\n",
              "   authorMeta/fans  authorMeta/following  authorMeta/heart  \\\n",
              "0          2400000                   113          37200000   \n",
              "1          2700000                   124          65600000   \n",
              "2            91700                   163           8400000   \n",
              "3          2700000                   124          65600000   \n",
              "4          1300000                   557          10200000   \n",
              "\n",
              "         authorMeta/id authorMeta/name authorMeta/nickName  \\\n",
              "0  6802622695622034437    eliefeghaly7        Elie Feghaly   \n",
              "1  6712501085695214598   stasyasingerr       stasyasingerr   \n",
              "2  7004171213342262278       polakniko          🇵🇱 Niko 🇵🇱   \n",
              "3  6712501085695214598   stasyasingerr       stasyasingerr   \n",
              "4  6804747834517947397    miss.marhaba        miss.marhaba   \n",
              "\n",
              "                                authorMeta/signature  authorMeta/verified  \\\n",
              "0  Elie Feghaly\\n📍Dubai ❤️\\n🏠Real Estate\\n   Foll...                 True   \n",
              "1                        Люблю вас❤️\\n👇🏽Реклама/Pr👇🏽                False   \n",
              "2  Thanks for \\n90k! \\n🇵🇱❤️🇺🇦\\nIdk what to post a...                False   \n",
              "3                        Люблю вас❤️\\n👇🏽Реклама/Pr👇🏽                False   \n",
              "4                                                👇👇👇                False   \n",
              "\n",
              "   ...  hashtags/43/name  hashtags/43/title  hashtags/44/cover  \\\n",
              "0  ...               NaN                NaN                NaN   \n",
              "1  ...               NaN                NaN                NaN   \n",
              "2  ...               NaN                NaN                NaN   \n",
              "3  ...               NaN                NaN                NaN   \n",
              "4  ...               NaN                NaN                NaN   \n",
              "\n",
              "   hashtags/44/id  hashtags/44/name hashtags/44/title  hashtags/45/cover  \\\n",
              "0             NaN               NaN               NaN                NaN   \n",
              "1             NaN               NaN               NaN                NaN   \n",
              "2             NaN               NaN               NaN                NaN   \n",
              "3             NaN               NaN               NaN                NaN   \n",
              "4             NaN               NaN               NaN                NaN   \n",
              "\n",
              "  hashtags/45/id hashtags/45/name hashtags/45/title  \n",
              "0            NaN              NaN               NaN  \n",
              "1            NaN              NaN               NaN  \n",
              "2            NaN              NaN               NaN  \n",
              "3            NaN              NaN               NaN  \n",
              "4            NaN              NaN               NaN  \n",
              "\n",
              "[5 rows x 219 columns]"
            ],
            "text/html": [
              "\n",
              "  <div id=\"df-3e92cc75-9d34-41a1-81b8-a4db041d41ad\">\n",
              "    <div class=\"colab-df-container\">\n",
              "      <div>\n",
              "<style scoped>\n",
              "    .dataframe tbody tr th:only-of-type {\n",
              "        vertical-align: middle;\n",
              "    }\n",
              "\n",
              "    .dataframe tbody tr th {\n",
              "        vertical-align: top;\n",
              "    }\n",
              "\n",
              "    .dataframe thead th {\n",
              "        text-align: right;\n",
              "    }\n",
              "</style>\n",
              "<table border=\"1\" class=\"dataframe\">\n",
              "  <thead>\n",
              "    <tr style=\"text-align: right;\">\n",
              "      <th></th>\n",
              "      <th>authorMeta/avatar</th>\n",
              "      <th>authorMeta/digg</th>\n",
              "      <th>authorMeta/fans</th>\n",
              "      <th>authorMeta/following</th>\n",
              "      <th>authorMeta/heart</th>\n",
              "      <th>authorMeta/id</th>\n",
              "      <th>authorMeta/name</th>\n",
              "      <th>authorMeta/nickName</th>\n",
              "      <th>authorMeta/signature</th>\n",
              "      <th>authorMeta/verified</th>\n",
              "      <th>...</th>\n",
              "      <th>hashtags/43/name</th>\n",
              "      <th>hashtags/43/title</th>\n",
              "      <th>hashtags/44/cover</th>\n",
              "      <th>hashtags/44/id</th>\n",
              "      <th>hashtags/44/name</th>\n",
              "      <th>hashtags/44/title</th>\n",
              "      <th>hashtags/45/cover</th>\n",
              "      <th>hashtags/45/id</th>\n",
              "      <th>hashtags/45/name</th>\n",
              "      <th>hashtags/45/title</th>\n",
              "    </tr>\n",
              "  </thead>\n",
              "  <tbody>\n",
              "    <tr>\n",
              "      <th>0</th>\n",
              "      <td>https://p16-sign-sg.tiktokcdn.com/aweme/720x72...</td>\n",
              "      <td>72800</td>\n",
              "      <td>2400000</td>\n",
              "      <td>113</td>\n",
              "      <td>37200000</td>\n",
              "      <td>6802622695622034437</td>\n",
              "      <td>eliefeghaly7</td>\n",
              "      <td>Elie Feghaly</td>\n",
              "      <td>Elie Feghaly\\n📍Dubai ❤️\\n🏠Real Estate\\n   Foll...</td>\n",
              "      <td>True</td>\n",
              "      <td>...</td>\n",
              "      <td>NaN</td>\n",
              "      <td>NaN</td>\n",
              "      <td>NaN</td>\n",
              "      <td>NaN</td>\n",
              "      <td>NaN</td>\n",
              "      <td>NaN</td>\n",
              "      <td>NaN</td>\n",
              "      <td>NaN</td>\n",
              "      <td>NaN</td>\n",
              "      <td>NaN</td>\n",
              "    </tr>\n",
              "    <tr>\n",
              "      <th>1</th>\n",
              "      <td>https://p16-sign-sg.tiktokcdn.com/aweme/720x72...</td>\n",
              "      <td>28200</td>\n",
              "      <td>2700000</td>\n",
              "      <td>124</td>\n",
              "      <td>65600000</td>\n",
              "      <td>6712501085695214598</td>\n",
              "      <td>stasyasingerr</td>\n",
              "      <td>stasyasingerr</td>\n",
              "      <td>Люблю вас❤️\\n👇🏽Реклама/Pr👇🏽</td>\n",
              "      <td>False</td>\n",
              "      <td>...</td>\n",
              "      <td>NaN</td>\n",
              "      <td>NaN</td>\n",
              "      <td>NaN</td>\n",
              "      <td>NaN</td>\n",
              "      <td>NaN</td>\n",
              "      <td>NaN</td>\n",
              "      <td>NaN</td>\n",
              "      <td>NaN</td>\n",
              "      <td>NaN</td>\n",
              "      <td>NaN</td>\n",
              "    </tr>\n",
              "    <tr>\n",
              "      <th>2</th>\n",
              "      <td>https://p77-sign-va-lite.tiktokcdn.com/tos-mal...</td>\n",
              "      <td>11200</td>\n",
              "      <td>91700</td>\n",
              "      <td>163</td>\n",
              "      <td>8400000</td>\n",
              "      <td>7004171213342262278</td>\n",
              "      <td>polakniko</td>\n",
              "      <td>🇵🇱 Niko 🇵🇱</td>\n",
              "      <td>Thanks for \\n90k! \\n🇵🇱❤️🇺🇦\\nIdk what to post a...</td>\n",
              "      <td>False</td>\n",
              "      <td>...</td>\n",
              "      <td>NaN</td>\n",
              "      <td>NaN</td>\n",
              "      <td>NaN</td>\n",
              "      <td>NaN</td>\n",
              "      <td>NaN</td>\n",
              "      <td>NaN</td>\n",
              "      <td>NaN</td>\n",
              "      <td>NaN</td>\n",
              "      <td>NaN</td>\n",
              "      <td>NaN</td>\n",
              "    </tr>\n",
              "    <tr>\n",
              "      <th>3</th>\n",
              "      <td>https://p16-sign-sg.tiktokcdn.com/aweme/720x72...</td>\n",
              "      <td>28200</td>\n",
              "      <td>2700000</td>\n",
              "      <td>124</td>\n",
              "      <td>65600000</td>\n",
              "      <td>6712501085695214598</td>\n",
              "      <td>stasyasingerr</td>\n",
              "      <td>stasyasingerr</td>\n",
              "      <td>Люблю вас❤️\\n👇🏽Реклама/Pr👇🏽</td>\n",
              "      <td>False</td>\n",
              "      <td>...</td>\n",
              "      <td>NaN</td>\n",
              "      <td>NaN</td>\n",
              "      <td>NaN</td>\n",
              "      <td>NaN</td>\n",
              "      <td>NaN</td>\n",
              "      <td>NaN</td>\n",
              "      <td>NaN</td>\n",
              "      <td>NaN</td>\n",
              "      <td>NaN</td>\n",
              "      <td>NaN</td>\n",
              "    </tr>\n",
              "    <tr>\n",
              "      <th>4</th>\n",
              "      <td>https://p16-sign-sg.tiktokcdn.com/aweme/720x72...</td>\n",
              "      <td>662</td>\n",
              "      <td>1300000</td>\n",
              "      <td>557</td>\n",
              "      <td>10200000</td>\n",
              "      <td>6804747834517947397</td>\n",
              "      <td>miss.marhaba</td>\n",
              "      <td>miss.marhaba</td>\n",
              "      <td>👇👇👇</td>\n",
              "      <td>False</td>\n",
              "      <td>...</td>\n",
              "      <td>NaN</td>\n",
              "      <td>NaN</td>\n",
              "      <td>NaN</td>\n",
              "      <td>NaN</td>\n",
              "      <td>NaN</td>\n",
              "      <td>NaN</td>\n",
              "      <td>NaN</td>\n",
              "      <td>NaN</td>\n",
              "      <td>NaN</td>\n",
              "      <td>NaN</td>\n",
              "    </tr>\n",
              "  </tbody>\n",
              "</table>\n",
              "<p>5 rows × 219 columns</p>\n",
              "</div>\n",
              "      <button class=\"colab-df-convert\" onclick=\"convertToInteractive('df-3e92cc75-9d34-41a1-81b8-a4db041d41ad')\"\n",
              "              title=\"Convert this dataframe to an interactive table.\"\n",
              "              style=\"display:none;\">\n",
              "        \n",
              "  <svg xmlns=\"http://www.w3.org/2000/svg\" height=\"24px\"viewBox=\"0 0 24 24\"\n",
              "       width=\"24px\">\n",
              "    <path d=\"M0 0h24v24H0V0z\" fill=\"none\"/>\n",
              "    <path d=\"M18.56 5.44l.94 2.06.94-2.06 2.06-.94-2.06-.94-.94-2.06-.94 2.06-2.06.94zm-11 1L8.5 8.5l.94-2.06 2.06-.94-2.06-.94L8.5 2.5l-.94 2.06-2.06.94zm10 10l.94 2.06.94-2.06 2.06-.94-2.06-.94-.94-2.06-.94 2.06-2.06.94z\"/><path d=\"M17.41 7.96l-1.37-1.37c-.4-.4-.92-.59-1.43-.59-.52 0-1.04.2-1.43.59L10.3 9.45l-7.72 7.72c-.78.78-.78 2.05 0 2.83L4 21.41c.39.39.9.59 1.41.59.51 0 1.02-.2 1.41-.59l7.78-7.78 2.81-2.81c.8-.78.8-2.07 0-2.86zM5.41 20L4 18.59l7.72-7.72 1.47 1.35L5.41 20z\"/>\n",
              "  </svg>\n",
              "      </button>\n",
              "      \n",
              "  <style>\n",
              "    .colab-df-container {\n",
              "      display:flex;\n",
              "      flex-wrap:wrap;\n",
              "      gap: 12px;\n",
              "    }\n",
              "\n",
              "    .colab-df-convert {\n",
              "      background-color: #E8F0FE;\n",
              "      border: none;\n",
              "      border-radius: 50%;\n",
              "      cursor: pointer;\n",
              "      display: none;\n",
              "      fill: #1967D2;\n",
              "      height: 32px;\n",
              "      padding: 0 0 0 0;\n",
              "      width: 32px;\n",
              "    }\n",
              "\n",
              "    .colab-df-convert:hover {\n",
              "      background-color: #E2EBFA;\n",
              "      box-shadow: 0px 1px 2px rgba(60, 64, 67, 0.3), 0px 1px 3px 1px rgba(60, 64, 67, 0.15);\n",
              "      fill: #174EA6;\n",
              "    }\n",
              "\n",
              "    [theme=dark] .colab-df-convert {\n",
              "      background-color: #3B4455;\n",
              "      fill: #D2E3FC;\n",
              "    }\n",
              "\n",
              "    [theme=dark] .colab-df-convert:hover {\n",
              "      background-color: #434B5C;\n",
              "      box-shadow: 0px 1px 3px 1px rgba(0, 0, 0, 0.15);\n",
              "      filter: drop-shadow(0px 1px 2px rgba(0, 0, 0, 0.3));\n",
              "      fill: #FFFFFF;\n",
              "    }\n",
              "  </style>\n",
              "\n",
              "      <script>\n",
              "        const buttonEl =\n",
              "          document.querySelector('#df-3e92cc75-9d34-41a1-81b8-a4db041d41ad button.colab-df-convert');\n",
              "        buttonEl.style.display =\n",
              "          google.colab.kernel.accessAllowed ? 'block' : 'none';\n",
              "\n",
              "        async function convertToInteractive(key) {\n",
              "          const element = document.querySelector('#df-3e92cc75-9d34-41a1-81b8-a4db041d41ad');\n",
              "          const dataTable =\n",
              "            await google.colab.kernel.invokeFunction('convertToInteractive',\n",
              "                                                     [key], {});\n",
              "          if (!dataTable) return;\n",
              "\n",
              "          const docLinkHtml = 'Like what you see? Visit the ' +\n",
              "            '<a target=\"_blank\" href=https://colab.research.google.com/notebooks/data_table.ipynb>data table notebook</a>'\n",
              "            + ' to learn more about interactive tables.';\n",
              "          element.innerHTML = '';\n",
              "          dataTable['output_type'] = 'display_data';\n",
              "          await google.colab.output.renderOutput(dataTable, element);\n",
              "          const docLink = document.createElement('div');\n",
              "          docLink.innerHTML = docLinkHtml;\n",
              "          element.appendChild(docLink);\n",
              "        }\n",
              "      </script>\n",
              "    </div>\n",
              "  </div>\n",
              "  "
            ]
          },
          "metadata": {},
          "execution_count": 8
        }
      ]
    },
    {
      "cell_type": "code",
      "source": [
        "twitterCombo.head()"
      ],
      "metadata": {
        "colab": {
          "base_uri": "https://localhost:8080/",
          "height": 612
        },
        "id": "p9cjJFy_wrRq",
        "outputId": "15dee2fd-c841-478a-ba2e-a2d1e1580b0d"
      },
      "execution_count": 9,
      "outputs": [
        {
          "output_type": "execute_result",
          "data": {
            "text/plain": [
              "       conversation_id                created_at  favorite_count  \\\n",
              "0  1509538954395242496  2022-03-31T14:31:47.000Z            9765   \n",
              "1  1509518391362859015  2022-03-31T13:20:09.000Z            1859   \n",
              "2  1508995015422455808  2022-03-30T02:30:22.000Z           56426   \n",
              "3  1509542769102098435  2022-03-31T14:46:56.000Z            6125   \n",
              "4  1509246889203572739  2022-03-30T19:11:13.000Z            8992   \n",
              "\n",
              "                                           full_text hashtags/0 hashtags/1  \\\n",
              "0  ⚡️⚡️Ukraine launches a website for whistleblow...        NaN        NaN   \n",
              "1  To highlight the significance of the past week...        NaN        NaN   \n",
              "2  pro tip: if Russia calls you their partner, yo...        NaN        NaN   \n",
              "3  Russia is retreating. Ukraine is advancing. Ti...        NaN        NaN   \n",
              "4  Russian soldiers raped a 16-year-old girl and ...        NaN        NaN   \n",
              "\n",
              "  hashtags/2 hashtags/3 hashtags/4 hashtags/5  ... hashtags/16 hashtags/17  \\\n",
              "0        NaN        NaN        NaN        NaN  ...         NaN         NaN   \n",
              "1        NaN        NaN        NaN        NaN  ...         NaN         NaN   \n",
              "2        NaN        NaN        NaN        NaN  ...         NaN         NaN   \n",
              "3        NaN        NaN        NaN        NaN  ...         NaN         NaN   \n",
              "4        NaN        NaN        NaN        NaN  ...         NaN         NaN   \n",
              "\n",
              "  hashtags/18 hashtags/19  hashtags/20  hashtags/21  hashtags/22 hashtags/23  \\\n",
              "0         NaN         NaN          NaN          NaN          NaN         NaN   \n",
              "1         NaN         NaN          NaN          NaN          NaN         NaN   \n",
              "2         NaN         NaN          NaN          NaN          NaN         NaN   \n",
              "3         NaN         NaN          NaN          NaN          NaN         NaN   \n",
              "4         NaN         NaN          NaN          NaN          NaN         NaN   \n",
              "\n",
              "  hashtags/24 hashtags/25  \n",
              "0         NaN         NaN  \n",
              "1         NaN         NaN  \n",
              "2         NaN         NaN  \n",
              "3         NaN         NaN  \n",
              "4         NaN         NaN  \n",
              "\n",
              "[5 rows x 136 columns]"
            ],
            "text/html": [
              "\n",
              "  <div id=\"df-1a9948cd-40c7-4202-8f2f-1e63d5df6a8f\">\n",
              "    <div class=\"colab-df-container\">\n",
              "      <div>\n",
              "<style scoped>\n",
              "    .dataframe tbody tr th:only-of-type {\n",
              "        vertical-align: middle;\n",
              "    }\n",
              "\n",
              "    .dataframe tbody tr th {\n",
              "        vertical-align: top;\n",
              "    }\n",
              "\n",
              "    .dataframe thead th {\n",
              "        text-align: right;\n",
              "    }\n",
              "</style>\n",
              "<table border=\"1\" class=\"dataframe\">\n",
              "  <thead>\n",
              "    <tr style=\"text-align: right;\">\n",
              "      <th></th>\n",
              "      <th>conversation_id</th>\n",
              "      <th>created_at</th>\n",
              "      <th>favorite_count</th>\n",
              "      <th>full_text</th>\n",
              "      <th>hashtags/0</th>\n",
              "      <th>hashtags/1</th>\n",
              "      <th>hashtags/2</th>\n",
              "      <th>hashtags/3</th>\n",
              "      <th>hashtags/4</th>\n",
              "      <th>hashtags/5</th>\n",
              "      <th>...</th>\n",
              "      <th>hashtags/16</th>\n",
              "      <th>hashtags/17</th>\n",
              "      <th>hashtags/18</th>\n",
              "      <th>hashtags/19</th>\n",
              "      <th>hashtags/20</th>\n",
              "      <th>hashtags/21</th>\n",
              "      <th>hashtags/22</th>\n",
              "      <th>hashtags/23</th>\n",
              "      <th>hashtags/24</th>\n",
              "      <th>hashtags/25</th>\n",
              "    </tr>\n",
              "  </thead>\n",
              "  <tbody>\n",
              "    <tr>\n",
              "      <th>0</th>\n",
              "      <td>1509538954395242496</td>\n",
              "      <td>2022-03-31T14:31:47.000Z</td>\n",
              "      <td>9765</td>\n",
              "      <td>⚡️⚡️Ukraine launches a website for whistleblow...</td>\n",
              "      <td>NaN</td>\n",
              "      <td>NaN</td>\n",
              "      <td>NaN</td>\n",
              "      <td>NaN</td>\n",
              "      <td>NaN</td>\n",
              "      <td>NaN</td>\n",
              "      <td>...</td>\n",
              "      <td>NaN</td>\n",
              "      <td>NaN</td>\n",
              "      <td>NaN</td>\n",
              "      <td>NaN</td>\n",
              "      <td>NaN</td>\n",
              "      <td>NaN</td>\n",
              "      <td>NaN</td>\n",
              "      <td>NaN</td>\n",
              "      <td>NaN</td>\n",
              "      <td>NaN</td>\n",
              "    </tr>\n",
              "    <tr>\n",
              "      <th>1</th>\n",
              "      <td>1509518391362859015</td>\n",
              "      <td>2022-03-31T13:20:09.000Z</td>\n",
              "      <td>1859</td>\n",
              "      <td>To highlight the significance of the past week...</td>\n",
              "      <td>NaN</td>\n",
              "      <td>NaN</td>\n",
              "      <td>NaN</td>\n",
              "      <td>NaN</td>\n",
              "      <td>NaN</td>\n",
              "      <td>NaN</td>\n",
              "      <td>...</td>\n",
              "      <td>NaN</td>\n",
              "      <td>NaN</td>\n",
              "      <td>NaN</td>\n",
              "      <td>NaN</td>\n",
              "      <td>NaN</td>\n",
              "      <td>NaN</td>\n",
              "      <td>NaN</td>\n",
              "      <td>NaN</td>\n",
              "      <td>NaN</td>\n",
              "      <td>NaN</td>\n",
              "    </tr>\n",
              "    <tr>\n",
              "      <th>2</th>\n",
              "      <td>1508995015422455808</td>\n",
              "      <td>2022-03-30T02:30:22.000Z</td>\n",
              "      <td>56426</td>\n",
              "      <td>pro tip: if Russia calls you their partner, yo...</td>\n",
              "      <td>NaN</td>\n",
              "      <td>NaN</td>\n",
              "      <td>NaN</td>\n",
              "      <td>NaN</td>\n",
              "      <td>NaN</td>\n",
              "      <td>NaN</td>\n",
              "      <td>...</td>\n",
              "      <td>NaN</td>\n",
              "      <td>NaN</td>\n",
              "      <td>NaN</td>\n",
              "      <td>NaN</td>\n",
              "      <td>NaN</td>\n",
              "      <td>NaN</td>\n",
              "      <td>NaN</td>\n",
              "      <td>NaN</td>\n",
              "      <td>NaN</td>\n",
              "      <td>NaN</td>\n",
              "    </tr>\n",
              "    <tr>\n",
              "      <th>3</th>\n",
              "      <td>1509542769102098435</td>\n",
              "      <td>2022-03-31T14:46:56.000Z</td>\n",
              "      <td>6125</td>\n",
              "      <td>Russia is retreating. Ukraine is advancing. Ti...</td>\n",
              "      <td>NaN</td>\n",
              "      <td>NaN</td>\n",
              "      <td>NaN</td>\n",
              "      <td>NaN</td>\n",
              "      <td>NaN</td>\n",
              "      <td>NaN</td>\n",
              "      <td>...</td>\n",
              "      <td>NaN</td>\n",
              "      <td>NaN</td>\n",
              "      <td>NaN</td>\n",
              "      <td>NaN</td>\n",
              "      <td>NaN</td>\n",
              "      <td>NaN</td>\n",
              "      <td>NaN</td>\n",
              "      <td>NaN</td>\n",
              "      <td>NaN</td>\n",
              "      <td>NaN</td>\n",
              "    </tr>\n",
              "    <tr>\n",
              "      <th>4</th>\n",
              "      <td>1509246889203572739</td>\n",
              "      <td>2022-03-30T19:11:13.000Z</td>\n",
              "      <td>8992</td>\n",
              "      <td>Russian soldiers raped a 16-year-old girl and ...</td>\n",
              "      <td>NaN</td>\n",
              "      <td>NaN</td>\n",
              "      <td>NaN</td>\n",
              "      <td>NaN</td>\n",
              "      <td>NaN</td>\n",
              "      <td>NaN</td>\n",
              "      <td>...</td>\n",
              "      <td>NaN</td>\n",
              "      <td>NaN</td>\n",
              "      <td>NaN</td>\n",
              "      <td>NaN</td>\n",
              "      <td>NaN</td>\n",
              "      <td>NaN</td>\n",
              "      <td>NaN</td>\n",
              "      <td>NaN</td>\n",
              "      <td>NaN</td>\n",
              "      <td>NaN</td>\n",
              "    </tr>\n",
              "  </tbody>\n",
              "</table>\n",
              "<p>5 rows × 136 columns</p>\n",
              "</div>\n",
              "      <button class=\"colab-df-convert\" onclick=\"convertToInteractive('df-1a9948cd-40c7-4202-8f2f-1e63d5df6a8f')\"\n",
              "              title=\"Convert this dataframe to an interactive table.\"\n",
              "              style=\"display:none;\">\n",
              "        \n",
              "  <svg xmlns=\"http://www.w3.org/2000/svg\" height=\"24px\"viewBox=\"0 0 24 24\"\n",
              "       width=\"24px\">\n",
              "    <path d=\"M0 0h24v24H0V0z\" fill=\"none\"/>\n",
              "    <path d=\"M18.56 5.44l.94 2.06.94-2.06 2.06-.94-2.06-.94-.94-2.06-.94 2.06-2.06.94zm-11 1L8.5 8.5l.94-2.06 2.06-.94-2.06-.94L8.5 2.5l-.94 2.06-2.06.94zm10 10l.94 2.06.94-2.06 2.06-.94-2.06-.94-.94-2.06-.94 2.06-2.06.94z\"/><path d=\"M17.41 7.96l-1.37-1.37c-.4-.4-.92-.59-1.43-.59-.52 0-1.04.2-1.43.59L10.3 9.45l-7.72 7.72c-.78.78-.78 2.05 0 2.83L4 21.41c.39.39.9.59 1.41.59.51 0 1.02-.2 1.41-.59l7.78-7.78 2.81-2.81c.8-.78.8-2.07 0-2.86zM5.41 20L4 18.59l7.72-7.72 1.47 1.35L5.41 20z\"/>\n",
              "  </svg>\n",
              "      </button>\n",
              "      \n",
              "  <style>\n",
              "    .colab-df-container {\n",
              "      display:flex;\n",
              "      flex-wrap:wrap;\n",
              "      gap: 12px;\n",
              "    }\n",
              "\n",
              "    .colab-df-convert {\n",
              "      background-color: #E8F0FE;\n",
              "      border: none;\n",
              "      border-radius: 50%;\n",
              "      cursor: pointer;\n",
              "      display: none;\n",
              "      fill: #1967D2;\n",
              "      height: 32px;\n",
              "      padding: 0 0 0 0;\n",
              "      width: 32px;\n",
              "    }\n",
              "\n",
              "    .colab-df-convert:hover {\n",
              "      background-color: #E2EBFA;\n",
              "      box-shadow: 0px 1px 2px rgba(60, 64, 67, 0.3), 0px 1px 3px 1px rgba(60, 64, 67, 0.15);\n",
              "      fill: #174EA6;\n",
              "    }\n",
              "\n",
              "    [theme=dark] .colab-df-convert {\n",
              "      background-color: #3B4455;\n",
              "      fill: #D2E3FC;\n",
              "    }\n",
              "\n",
              "    [theme=dark] .colab-df-convert:hover {\n",
              "      background-color: #434B5C;\n",
              "      box-shadow: 0px 1px 3px 1px rgba(0, 0, 0, 0.15);\n",
              "      filter: drop-shadow(0px 1px 2px rgba(0, 0, 0, 0.3));\n",
              "      fill: #FFFFFF;\n",
              "    }\n",
              "  </style>\n",
              "\n",
              "      <script>\n",
              "        const buttonEl =\n",
              "          document.querySelector('#df-1a9948cd-40c7-4202-8f2f-1e63d5df6a8f button.colab-df-convert');\n",
              "        buttonEl.style.display =\n",
              "          google.colab.kernel.accessAllowed ? 'block' : 'none';\n",
              "\n",
              "        async function convertToInteractive(key) {\n",
              "          const element = document.querySelector('#df-1a9948cd-40c7-4202-8f2f-1e63d5df6a8f');\n",
              "          const dataTable =\n",
              "            await google.colab.kernel.invokeFunction('convertToInteractive',\n",
              "                                                     [key], {});\n",
              "          if (!dataTable) return;\n",
              "\n",
              "          const docLinkHtml = 'Like what you see? Visit the ' +\n",
              "            '<a target=\"_blank\" href=https://colab.research.google.com/notebooks/data_table.ipynb>data table notebook</a>'\n",
              "            + ' to learn more about interactive tables.';\n",
              "          element.innerHTML = '';\n",
              "          dataTable['output_type'] = 'display_data';\n",
              "          await google.colab.output.renderOutput(dataTable, element);\n",
              "          const docLink = document.createElement('div');\n",
              "          docLink.innerHTML = docLinkHtml;\n",
              "          element.appendChild(docLink);\n",
              "        }\n",
              "      </script>\n",
              "    </div>\n",
              "  </div>\n",
              "  "
            ]
          },
          "metadata": {},
          "execution_count": 9
        }
      ]
    },
    {
      "cell_type": "code",
      "source": [
        "hash0_ukraine_russia = tikTokCombo[(tikTokCombo[\"hashtags/0/name\"] == \"ukraine\") | (tikTokCombo[\"hashtags/0/name\"] == \"russia\")]\n",
        "\n",
        "sns.catplot(x = \"hashtags/0/name\", y=\"commentCount\", kind = \"bar\",data = hash0_ukraine_russia)"
      ],
      "metadata": {
        "colab": {
          "base_uri": "https://localhost:8080/",
          "height": 383
        },
        "id": "MDumQMknPesK",
        "outputId": "778cd93a-8a99-4b23-cdbe-aaabdfab9ef2"
      },
      "execution_count": 10,
      "outputs": [
        {
          "output_type": "execute_result",
          "data": {
            "text/plain": [
              "<seaborn.axisgrid.FacetGrid at 0x7f259ab05a50>"
            ]
          },
          "metadata": {},
          "execution_count": 10
        },
        {
          "output_type": "display_data",
          "data": {
            "text/plain": [
              "<Figure size 360x360 with 1 Axes>"
            ],
            "image/png": "[encoded data removed]"
          },
          "metadata": {}
        }
      ]
    },
    {
      "cell_type": "markdown",
      "source": [
        ""
      ],
      "metadata": {
        "id": "2fjjhEUZoPW-"
      }
    },
    {
      "cell_type": "code",
      "source": [
        "sns.catplot(x = \"hashtags/0/name\", y=\"shareCount\", kind = \"bar\",data = hash0_ukraine_russia)"
      ],
      "metadata": {
        "colab": {
          "base_uri": "https://localhost:8080/",
          "height": 383
        },
        "id": "3apmXRjz6M4Y",
        "outputId": "e7c96ce2-20aa-45eb-f4b5-2e0fb99154c8"
      },
      "execution_count": 11,
      "outputs": [
        {
          "output_type": "execute_result",
          "data": {
            "text/plain": [
              "<seaborn.axisgrid.FacetGrid at 0x7f259d65a810>"
            ]
          },
          "metadata": {},
          "execution_count": 11
        },
        {
          "output_type": "display_data",
          "data": {
            "text/plain": [
              "<Figure size 360x360 with 1 Axes>"
            ],
            "image/png": "[encoded data removed]"
          },
          "metadata": {}
        }
      ]
    },
    {
      "cell_type": "code",
      "source": [
        "sns.catplot(x = \"hashtags/0\", y=\"retweet_count\", kind = \"bar\",data = twitter_hash0)"
      ],
      "metadata": {
        "colab": {
          "base_uri": "https://localhost:8080/",
          "height": 383
        },
        "id": "bcfevouM6ft5",
        "outputId": "d9b42b3d-37c0-4807-ba85-7c41dd9f424d"
      },
      "execution_count": 12,
      "outputs": [
        {
          "output_type": "execute_result",
          "data": {
            "text/plain": [
              "<seaborn.axisgrid.FacetGrid at 0x7f259a641090>"
            ]
          },
          "metadata": {},
          "execution_count": 12
        },
        {
          "output_type": "display_data",
          "data": {
            "text/plain": [
              "<Figure size 360x360 with 1 Axes>"
            ],
            "image/png": "[encoded data removed]"
          },
          "metadata": {}
        }
      ]
    },
    {
      "cell_type": "code",
      "source": [
        "sns.relplot(x = \"authorMeta/heart\", y=\"commentCount\", kind = \"scatter\", hue = \"hashtags/0/name\", data = hash0_ukraine_russia)"
      ],
      "metadata": {
        "colab": {
          "base_uri": "https://localhost:8080/",
          "height": 383
        },
        "id": "pqBARPGc63Ix",
        "outputId": "f5622e90-700f-4b82-ae58-b7bec2f6d2e1"
      },
      "execution_count": 13,
      "outputs": [
        {
          "output_type": "execute_result",
          "data": {
            "text/plain": [
              "<seaborn.axisgrid.FacetGrid at 0x7f259a5c8290>"
            ]
          },
          "metadata": {},
          "execution_count": 13
        },
        {
          "output_type": "display_data",
          "data": {
            "text/plain": [
              "<Figure size 473.925x360 with 1 Axes>"
            ],
            "image/png": "[encoded data removed]"
          },
          "metadata": {}
        }
      ]
    },
    {
      "cell_type": "code",
      "source": [
        "twitter_hash0_no_outlier = twitter_hash0[twitter_hash0['favorite_count'] < 5000]\n",
        "sns.relplot(x = \"favorite_count\", y=\"retweet_count\", kind = \"scatter\", hue = \"hashtags/0\", data = twitter_hash0_no_outlier)"
      ],
      "metadata": {
        "colab": {
          "base_uri": "https://localhost:8080/",
          "height": 386
        },
        "id": "8_dyugHx8M8e",
        "outputId": "67577dec-fb2e-4f53-c0d6-9f6cfbc90d21"
      },
      "execution_count": null,
      "outputs": [
        {
          "output_type": "execute_result",
          "data": {
            "text/plain": [
              "<seaborn.axisgrid.FacetGrid at 0x7fde791fb290>"
            ]
          },
          "metadata": {},
          "execution_count": 33
        },
        {
          "output_type": "display_data",
          "data": {
            "text/plain": [
              "<Figure size 442.475x360 with 1 Axes>"
            ],
            "image/png": "[encoded data removed]"
          },
          "metadata": {
            "needs_background": "light"
          }
        }
      ]
    }
  ]
}